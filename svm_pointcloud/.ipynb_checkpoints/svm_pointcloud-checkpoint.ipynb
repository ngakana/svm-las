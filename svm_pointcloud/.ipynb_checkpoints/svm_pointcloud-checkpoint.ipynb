{
 "cells": [
  {
   "cell_type": "code",
   "execution_count": 51,
   "id": "724df612-1ff7-4e75-bc26-3a9104a4b96d",
   "metadata": {},
   "outputs": [],
   "source": [
    "import laspy\n",
    "import numpy as np\n",
    "import pandas as pd"
   ]
  },
  {
   "cell_type": "code",
   "execution_count": 182,
   "id": "a2b2e81f-e1ac-40e5-a17e-fab2c0a886f6",
   "metadata": {},
   "outputs": [
    {
     "data": {
      "text/plain": [
       "(28652, 3)"
      ]
     },
     "execution_count": 183,
     "metadata": {},
     "output_type": "execute_result"
    }
   ],
   "source": [
    "las = laspy.read(\"jwaneng_highwall_1_labelled_pointcloud.las\")\n",
    "classes = las.classification.array\n",
    "xyz = las.xyz\n",
    "origin = np.min(xyz, axis=0)\n",
    "scaled = np.array((xyz - origin) / 0.25, dtype=np.int32)\n",
    "scaled.shape"
   ]
  },
  {
   "cell_type": "code",
   "execution_count": 178,
   "id": "419ab2c1-e0f0-4162-a3ca-f0c96a404f65",
   "metadata": {},
   "outputs": [
    {
     "data": {
      "text/plain": [
       "[7, 9, 6]"
      ]
     },
     "execution_count": 178,
     "metadata": {},
     "output_type": "execute_result"
    }
   ],
   "source": [
    "scaled_xyz_max = np.max(scaled, axis=0)\n",
    "min_req_bits = [int(num) for num in np.ceil(np.log2(scaled_xyz_max))]\n",
    "min_req_bits"
   ]
  },
  {
   "cell_type": "code",
   "execution_count": 181,
   "id": "f3dec140-4ac4-4ece-bb89-26a3e01e665d",
   "metadata": {},
   "outputs": [
    {
     "data": {
      "text/plain": [
       "(28652,)"
      ]
     },
     "execution_count": 181,
     "metadata": {},
     "output_type": "execute_result"
    }
   ],
   "source": [
    "shifts = np.array([16, 6, 0], dtype=np.uint8)\n",
    "idx = np.sum(np.left_shift(scaled, shifts), axis=1)\n",
    "idx.shape"
   ]
  },
  {
   "cell_type": "code",
   "execution_count": 85,
   "id": "f3298008-2c8d-4427-8b89-87789966c4c1",
   "metadata": {},
   "outputs": [],
   "source": [
    "a = np.vstack((idx, cls)).T"
   ]
  },
  {
   "cell_type": "code",
   "execution_count": 175,
   "id": "a5bc2753-8f71-4384-ba8e-7ba24ff709e6",
   "metadata": {},
   "outputs": [
    {
     "data": {
      "text/html": [
       "<div>\n",
       "<style scoped>\n",
       "    .dataframe tbody tr th:only-of-type {\n",
       "        vertical-align: middle;\n",
       "    }\n",
       "\n",
       "    .dataframe tbody tr th {\n",
       "        vertical-align: top;\n",
       "    }\n",
       "\n",
       "    .dataframe thead th {\n",
       "        text-align: right;\n",
       "    }\n",
       "</style>\n",
       "<table border=\"1\" class=\"dataframe\">\n",
       "  <thead>\n",
       "    <tr style=\"text-align: right;\">\n",
       "      <th></th>\n",
       "      <th>class</th>\n",
       "    </tr>\n",
       "  </thead>\n",
       "  <tbody>\n",
       "    <tr>\n",
       "      <th>27219</th>\n",
       "      <td>20</td>\n",
       "    </tr>\n",
       "    <tr>\n",
       "      <th>27283</th>\n",
       "      <td>20</td>\n",
       "    </tr>\n",
       "    <tr>\n",
       "      <th>27284</th>\n",
       "      <td>20</td>\n",
       "    </tr>\n",
       "    <tr>\n",
       "      <th>27285</th>\n",
       "      <td>20</td>\n",
       "    </tr>\n",
       "    <tr>\n",
       "      <th>27348</th>\n",
       "      <td>20</td>\n",
       "    </tr>\n",
       "  </tbody>\n",
       "</table>\n",
       "</div>"
      ],
      "text/plain": [
       "       class\n",
       "27219     20\n",
       "27283     20\n",
       "27284     20\n",
       "27285     20\n",
       "27348     20"
      ]
     },
     "execution_count": 175,
     "metadata": {},
     "output_type": "execute_result"
    }
   ],
   "source": [
    "df = pd.DataFrame(cls, columns=['class'], index=idx)\n",
    "df.head()"
   ]
  },
  {
   "cell_type": "code",
   "execution_count": 193,
   "id": "5a0f01b0-353a-45fb-94fa-8f32d97e2ef3",
   "metadata": {},
   "outputs": [
    {
     "data": {
      "text/plain": [
       "(28652,)"
      ]
     },
     "execution_count": 193,
     "metadata": {},
     "output_type": "execute_result"
    }
   ],
   "source": [
    "rmse = las.intensity\n",
    "rmse.shape"
   ]
  },
  {
   "cell_type": "code",
   "execution_count": 201,
   "id": "6e987901-d5aa-444f-86e1-9098ac4ccff2",
   "metadata": {},
   "outputs": [
    {
     "data": {
      "text/html": [
       "<div>\n",
       "<style scoped>\n",
       "    .dataframe tbody tr th:only-of-type {\n",
       "        vertical-align: middle;\n",
       "    }\n",
       "\n",
       "    .dataframe tbody tr th {\n",
       "        vertical-align: top;\n",
       "    }\n",
       "\n",
       "    .dataframe thead th {\n",
       "        text-align: right;\n",
       "    }\n",
       "</style>\n",
       "<table border=\"1\" class=\"dataframe\">\n",
       "  <thead>\n",
       "    <tr style=\"text-align: right;\">\n",
       "      <th></th>\n",
       "      <th>class</th>\n",
       "      <th>rmse</th>\n",
       "    </tr>\n",
       "  </thead>\n",
       "  <tbody>\n",
       "    <tr>\n",
       "      <th>27219</th>\n",
       "      <td>20</td>\n",
       "      <td>9993</td>\n",
       "    </tr>\n",
       "    <tr>\n",
       "      <th>27283</th>\n",
       "      <td>20</td>\n",
       "      <td>13496</td>\n",
       "    </tr>\n",
       "    <tr>\n",
       "      <th>27284</th>\n",
       "      <td>20</td>\n",
       "      <td>11416</td>\n",
       "    </tr>\n",
       "    <tr>\n",
       "      <th>27285</th>\n",
       "      <td>20</td>\n",
       "      <td>3655</td>\n",
       "    </tr>\n",
       "    <tr>\n",
       "      <th>27348</th>\n",
       "      <td>20</td>\n",
       "      <td>17099</td>\n",
       "    </tr>\n",
       "  </tbody>\n",
       "</table>\n",
       "</div>"
      ],
      "text/plain": [
       "       class   rmse\n",
       "27219     20   9993\n",
       "27283     20  13496\n",
       "27284     20  11416\n",
       "27285     20   3655\n",
       "27348     20  17099"
      ]
     },
     "execution_count": 201,
     "metadata": {},
     "output_type": "execute_result"
    }
   ],
   "source": [
    "df['rmse'] = rmse\n",
    "df.head()"
   ]
  },
  {
   "cell_type": "code",
   "execution_count": 220,
   "id": "bd3b5912-7f81-48bf-bbc3-d528f59b7639",
   "metadata": {},
   "outputs": [
    {
     "data": {
      "text/plain": [
       "0"
      ]
     },
     "execution_count": 220,
     "metadata": {},
     "output_type": "execute_result"
    }
   ],
   "source": [
    "np.sum(las.user_data, axis=0)"
   ]
  }
 ],
 "metadata": {
  "kernelspec": {
   "display_name": "Python 3 (ipykernel)",
   "language": "python",
   "name": "python3"
  },
  "language_info": {
   "codemirror_mode": {
    "name": "ipython",
    "version": 3
   },
   "file_extension": ".py",
   "mimetype": "text/x-python",
   "name": "python",
   "nbconvert_exporter": "python",
   "pygments_lexer": "ipython3",
   "version": "3.10.5"
  }
 },
 "nbformat": 4,
 "nbformat_minor": 5
}
